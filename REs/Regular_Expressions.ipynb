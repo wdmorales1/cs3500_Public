{
 "cells": [
  {
   "cell_type": "markdown",
   "id": "27c16426",
   "metadata": {},
   "source": [
    "# What is Regex?\n",
    "A regular expression, regex or regexp (sometimes called a rational expression) is a sequence of characters that define a search pattern. Usually such patterns are used by string searching algorithms for “find” or “find and replace” operations on strings, or for input validation. It is a technique developed in theoretical computer science and formal language theory"
   ]
  },
  {
   "cell_type": "code",
   "execution_count": 45,
   "id": "7d3aaefc",
   "metadata": {},
   "outputs": [],
   "source": [
    "import re\n",
    "from PIL import Image"
   ]
  },
  {
   "cell_type": "markdown",
   "id": "03f21b9d",
   "metadata": {},
   "source": [
    "Find Explicit characters"
   ]
  },
  {
   "cell_type": "code",
   "execution_count": 46,
   "id": "b4e1f705",
   "metadata": {},
   "outputs": [
    {
     "data": {
      "text/plain": [
       "['term1']"
      ]
     },
     "execution_count": 46,
     "metadata": {},
     "output_type": "execute_result"
    }
   ],
   "source": [
    "text = 'This is a string with term1, but it does not have the other term.'\n",
    "re.findall(\"term1\",text)"
   ]
  },
  {
   "cell_type": "code",
   "execution_count": 47,
   "id": "2e3f264d",
   "metadata": {},
   "outputs": [
    {
     "name": "stdout",
     "output_type": "stream",
     "text": [
      "abcdefghijklmnopqrstuvwxyz\n"
     ]
    },
    {
     "data": {
      "text/plain": [
       "['abc']"
      ]
     },
     "execution_count": 47,
     "metadata": {},
     "output_type": "execute_result"
    }
   ],
   "source": [
    "lowercase_alphabet = \"abcdefghijklmnopqrstuvwxyz\"\n",
    "print(lowercase_alphabet)\n",
    "re.findall(\"abc\",lowercase_alphabet)"
   ]
  },
  {
   "cell_type": "code",
   "execution_count": 48,
   "id": "139cc4b4",
   "metadata": {},
   "outputs": [
    {
     "name": "stdout",
     "output_type": "stream",
     "text": [
      "ABCDEFGHIJKLMNOPQRSTUVWXYZ\n"
     ]
    },
    {
     "data": {
      "text/plain": [
       "[]"
      ]
     },
     "execution_count": 48,
     "metadata": {},
     "output_type": "execute_result"
    }
   ],
   "source": [
    "uppercase_alphabet = lowercase_alphabet.upper()\n",
    "print(uppercase_alphabet)\n",
    "re.findall(\"abc\",uppercase_alphabet)"
   ]
  },
  {
   "cell_type": "code",
   "execution_count": 49,
   "id": "bbe9884e",
   "metadata": {},
   "outputs": [
    {
     "name": "stdout",
     "output_type": "stream",
     "text": [
      "ABCDEFGHIJKLMNOPQRSTUVWXYZ\n"
     ]
    },
    {
     "data": {
      "text/plain": [
       "['ABC']"
      ]
     },
     "execution_count": 49,
     "metadata": {},
     "output_type": "execute_result"
    }
   ],
   "source": [
    "print(uppercase_alphabet)\n",
    "re.findall(\"ABC\",uppercase_alphabet)"
   ]
  },
  {
   "cell_type": "markdown",
   "id": "662995db",
   "metadata": {},
   "source": [
    "Anchors.:<br/><br/>\n",
    " <img src=\"images/REs_anchor.png\" width=\"300\"/>"
   ]
  },
  {
   "cell_type": "code",
   "execution_count": 50,
   "id": "ae4b1849",
   "metadata": {},
   "outputs": [
    {
     "name": "stdout",
     "output_type": "stream",
     "text": [
      "['T']\n",
      "[]\n",
      "['m']\n",
      "[]\n"
     ]
    }
   ],
   "source": [
    "text = 'This is a string with term1, but it does not have the other term'\n",
    "patterns = [ 'term1', 'term2' ]\n",
    "\n",
    "# the string that starts with \"T\"\n",
    "s1 = re.findall(\"^T\",text)\n",
    "print(s1)\n",
    "\n",
    "# the string does not starts with \"h\"\n",
    "s2 = re.findall(\"^h\",text)\n",
    "print(s2)\n",
    "\n",
    "# the string that ends with \"m\"\n",
    "s1 = re.findall(\"m$\",text)\n",
    "print(s1)\n",
    "\n",
    "# the string does not starts with \"r\"\n",
    "s2 = re.findall(\"r$\",text)\n",
    "print(s2)"
   ]
  },
  {
   "cell_type": "markdown",
   "id": "863163c5",
   "metadata": {},
   "source": [
    "Matching literal characters"
   ]
  },
  {
   "cell_type": "code",
   "execution_count": 51,
   "id": "e741996d",
   "metadata": {},
   "outputs": [
    {
     "name": "stdout",
     "output_type": "stream",
     "text": [
      "www.medium.com\n"
     ]
    },
    {
     "data": {
      "text/plain": [
       "['www.medium.com']"
      ]
     },
     "execution_count": 51,
     "metadata": {},
     "output_type": "execute_result"
    }
   ],
   "source": [
    "website = \"www.medium.com\"\n",
    "print(website)\n",
    "re.findall(\"www.medium.com\",website)"
   ]
  },
  {
   "cell_type": "markdown",
   "id": "1040a57e",
   "metadata": {},
   "source": [
    "Quantifiers and Alternation.:<br/><br/>\n",
    " <img src=\"images/REs_Quantifiers_Alternation.png\" width=\"300\"/>"
   ]
  },
  {
   "cell_type": "code",
   "execution_count": 52,
   "id": "50f5a097",
   "metadata": {},
   "outputs": [
    {
     "name": "stdout",
     "output_type": "stream",
     "text": [
      "['1', '', '', '', '', '', '', '', '', '', '', '', '', '', '', '', '', '', '', '', '', '', '11', '', '', '', '', '', '', '', '', '', '', '', '', '1', '', '', '', '', '', '111', '', '', '', '', '', '', '', '', '', '', '', '', '', '', '', '1', '', '', '', '11', '', '', '', '', '', '', '', '', '', '', '', '', '', '', '', '', '', '1111', '', '111111', '', '', '', '', '', '']\n",
      "88\n"
     ]
    }
   ],
   "source": [
    "phone_numbers = \"\"\"123-456-7890\n",
    "987.654.311\n",
    "234-567-8901\n",
    "654.111.987\n",
    "345-678-9012\n",
    "311.654.978\n",
    "456-789-1111\n",
    "111111-2345\"\"\"\n",
    "\n",
    "#find strings with cero or more 1s\n",
    "list1 = re.findall(\"1*\",phone_numbers)\n",
    "print(list1)\n",
    "\n",
    "#The size of the string will count the number of 1s in the text.\n",
    "print(len(list1))"
   ]
  },
  {
   "cell_type": "code",
   "execution_count": 53,
   "id": "d9dcfe55",
   "metadata": {},
   "outputs": [
    {
     "name": "stdout",
     "output_type": "stream",
     "text": [
      "123-456-7890\n",
      "987.654.311\n",
      "234-567-8901\n",
      "654.111.987\n",
      "345-678-9012\n",
      "311.654.978\n",
      "456-789-1111\n",
      "111111-2345\n",
      "['1', '11', '1', '111', '1', '11', '1111', '111111']\n"
     ]
    }
   ],
   "source": [
    "phone_numbers = \"\"\"123-456-7890\n",
    "987.654.311\n",
    "234-567-8901\n",
    "654.111.987\n",
    "345-678-9012\n",
    "311.654.978\n",
    "456-789-1111\n",
    "111111-2345\"\"\"\n",
    "print(phone_numbers)\n",
    "\n",
    "#find strings with one or more 1s\n",
    "list1 = re.findall(\"1+\",phone_numbers)\n",
    "\n",
    "print(list1)"
   ]
  },
  {
   "cell_type": "code",
   "execution_count": 54,
   "id": "efb5414c",
   "metadata": {},
   "outputs": [
    {
     "name": "stdout",
     "output_type": "stream",
     "text": [
      "123-456-7890\n",
      "987.654.311\n",
      "234-567-8901\n",
      "654.111.987\n",
      "345-678-9012\n",
      "311.654.978\n",
      "456-789-1111\n",
      "111111-2345\n",
      "['1', '', '', '', '', '', '', '', '', '', '', '', '', '', '', '', '', '', '', '', '', '', '1', '1', '', '', '', '', '', '', '', '', '', '', '', '', '1', '', '', '', '', '', '1', '1', '1', '', '', '', '', '', '', '', '', '', '', '', '', '', '', '', '1', '', '', '', '1', '1', '', '', '', '', '', '', '', '', '', '', '', '', '', '', '', '', '', '1', '1', '1', '1', '', '1', '1', '1', '1', '1', '1', '', '', '', '', '', '']\n"
     ]
    }
   ],
   "source": [
    "phone_numbers = \"\"\"123-456-7890\n",
    "987.654.311\n",
    "234-567-8901\n",
    "654.111.987\n",
    "345-678-9012\n",
    "311.654.978\n",
    "456-789-1111\n",
    "111111-2345\"\"\"\n",
    "print(phone_numbers)\n",
    "\n",
    "#find strings with cero or one 1\n",
    "list1 = re.findall(\"1?\",phone_numbers)\n",
    "print(list1)\n"
   ]
  },
  {
   "cell_type": "code",
   "execution_count": 55,
   "id": "0dff7b35",
   "metadata": {},
   "outputs": [
    {
     "name": "stdout",
     "output_type": "stream",
     "text": [
      "123-456-7890\n",
      "987.654.311\n",
      "234-567-8901\n",
      "654.111.987\n",
      "345-678-9012\n",
      "311.654.978\n",
      "456-789-1111\n",
      "111111-2345\n",
      "['11', '11', '11', '11', '11', '11', '11', '11']\n"
     ]
    }
   ],
   "source": [
    "phone_numbers = \"\"\"123-456-7890\n",
    "987.654.311\n",
    "234-567-8901\n",
    "654.111.987\n",
    "345-678-9012\n",
    "311.654.978\n",
    "456-789-1111\n",
    "111111-2345\"\"\"\n",
    "print(phone_numbers)\n",
    "\n",
    "#find strings with exactly two 1s\n",
    "list1 = re.findall(\"1{2}\",phone_numbers)\n",
    "\n",
    "print(list1)"
   ]
  },
  {
   "cell_type": "code",
   "execution_count": 56,
   "id": "1ae18b3c",
   "metadata": {},
   "outputs": [
    {
     "name": "stdout",
     "output_type": "stream",
     "text": [
      "123-456-7890\n",
      "                    987.654.311\n",
      "                    234-567-8901\n",
      "                    654.111.987\n",
      "                    345-678-9012\n",
      "                    311.654.978\n",
      "                    456-789-1111\n",
      "                    111111-2345\n",
      "['11', '111', '11', '1111', '111111']\n"
     ]
    }
   ],
   "source": [
    "phone_numbers = \"\"\"123-456-7890\n",
    "987.654.311\n",
    "234-567-8901\n",
    "654.111.987\n",
    "345-678-9012\n",
    "311.654.978\n",
    "456-789-1111\n",
    "111111-2345\"\"\"\n",
    "print(phone_numbers)\n",
    "\n",
    "#find string with two or more 1s\n",
    "list1 = re.findall(\"1{2,}\",phone_numbers)\n",
    "\n",
    "print(list1)"
   ]
  },
  {
   "cell_type": "code",
   "execution_count": 69,
   "id": "d6b6520b",
   "metadata": {},
   "outputs": [
    {
     "name": "stdout",
     "output_type": "stream",
     "text": [
      "123-456-7890\n",
      "987.654.311\n",
      "234-567-8901\n",
      "654.111.987\n",
      "345-678-9012\n",
      "311.654.978\n",
      "456-789-1111\n",
      "111111-2345\n",
      "['11', '111', '11', '1111', '1111', '11']\n"
     ]
    }
   ],
   "source": [
    "phone_numbers = \"\"\"123-456-7890\n",
    "987.654.311\n",
    "234-567-8901\n",
    "654.111.987\n",
    "345-678-9012\n",
    "311.654.978\n",
    "456-789-1111\n",
    "111111-2345\"\"\"\n",
    "print(phone_numbers)\n",
    "\n",
    "#find string with two or four 1s\n",
    "list1 = re.findall(\"1{2,4}\",phone_numbers)\n",
    "\n",
    "print(list1)"
   ]
  },
  {
   "cell_type": "code",
   "execution_count": 71,
   "id": "e309e8b1",
   "metadata": {},
   "outputs": [
    {
     "name": "stdout",
     "output_type": "stream",
     "text": [
      "123-456-7890\n",
      "987.654.311\n",
      "234-567-8901\n",
      "654.111.987\n",
      "345-678-9012\n",
      "311.654.978\n",
      "456-789-1111\n",
      "111111-2345\n",
      "['1', '1', '1', '1', '1', '1', '1', '1', '1', '1', '1', '1', '1', '1', '1', '1', '1', '1', '1', '1']\n",
      "20\n"
     ]
    }
   ],
   "source": [
    "phone_numbers = \"\"\"123-456-7890\n",
    "987.654.311\n",
    "234-567-8901\n",
    "654.111.987\n",
    "345-678-9012\n",
    "311.654.978\n",
    "456-789-1111\n",
    "111111-2345\"\"\"\n",
    "print(phone_numbers)\n",
    "\n",
    "#find as few 1s as possible\n",
    "list1 = re.findall(\"1+?\",phone_numbers)\n",
    "\n",
    "print(list1)\n",
    "print(len(list1))"
   ]
  },
  {
   "cell_type": "code",
   "execution_count": 72,
   "id": "03bc15ba",
   "metadata": {},
   "outputs": [
    {
     "name": "stdout",
     "output_type": "stream",
     "text": [
      "123-456-7890\n",
      "987.654.311\n",
      "234-567-8901\n",
      "654.111.987\n",
      "345-678-9012\n",
      "311.654.978\n",
      "456-789-1111\n",
      "111111-2345\n",
      "['12', '12']\n"
     ]
    }
   ],
   "source": [
    "phone_numbers = \"\"\"123-456-7890\n",
    "987.654.311\n",
    "234-567-8901\n",
    "654.111.987\n",
    "345-678-9012\n",
    "311.654.978\n",
    "456-789-1111\n",
    "111111-2345\"\"\"\n",
    "print(phone_numbers)\n",
    "\n",
    "#find 12 or 21\n",
    "list1 = re.findall(\"12|21\",phone_numbers)\n",
    "\n",
    "print(list1)"
   ]
  },
  {
   "cell_type": "markdown",
   "id": "e57e2142",
   "metadata": {},
   "source": [
    "Matching by Patterns:\n",
    "\n",
    "<img src=\"images/REs_Character_Classes.png\" width=\"300\"/>"
   ]
  },
  {
   "cell_type": "code",
   "execution_count": 73,
   "id": "87fd0afb",
   "metadata": {},
   "outputs": [
    {
     "name": "stdout",
     "output_type": "stream",
     "text": [
      "[\\^$.|?*+()\n"
     ]
    },
    {
     "data": {
      "text/plain": [
       "['.']"
      ]
     },
     "execution_count": 73,
     "metadata": {},
     "output_type": "execute_result"
    }
   ],
   "source": [
    "# Select all special character \".\"\n",
    "special_characters = \"[\\^$.|?*+()\"\n",
    "print(special_characters)\n",
    "re.findall(\"\\.\",special_characters)"
   ]
  },
  {
   "cell_type": "code",
   "execution_count": 74,
   "id": "235a554d",
   "metadata": {},
   "outputs": [
    {
     "name": "stdout",
     "output_type": "stream",
     "text": [
      "[\\^$.|?*+()\n"
     ]
    },
    {
     "data": {
      "text/plain": [
       "['|']"
      ]
     },
     "execution_count": 74,
     "metadata": {},
     "output_type": "execute_result"
    }
   ],
   "source": [
    "# Select all special character \"|\"\n",
    "special_characters = \"[\\^$.|?*+()\"\n",
    "print(special_characters)\n",
    "re.findall(\"\\|\",special_characters)"
   ]
  },
  {
   "cell_type": "code",
   "execution_count": 75,
   "id": "e19289a9",
   "metadata": {},
   "outputs": [
    {
     "name": "stdout",
     "output_type": "stream",
     "text": [
      "[\\^$.|?*+()\n"
     ]
    },
    {
     "data": {
      "text/plain": [
       "['[', '\\\\', '^', '$', '.', '|', '?', '*', '+', '(', ')']"
      ]
     },
     "execution_count": 75,
     "metadata": {},
     "output_type": "execute_result"
    }
   ],
   "source": [
    "# Select all new characters except newline\n",
    "special_characters = \"[\\^$.|?*+()\"\n",
    "print(special_characters)\n",
    "re.findall(\".\",special_characters)"
   ]
  },
  {
   "cell_type": "code",
   "execution_count": 76,
   "id": "e88ea79a",
   "metadata": {},
   "outputs": [
    {
     "name": "stdout",
     "output_type": "stream",
     "text": [
      "987.654.311\n",
      "234-567-8901\n",
      "654.111.987\n",
      "345-678-9012\n",
      "311.654.978\n",
      "456-789-1111\n",
      "111111-2345\n",
      "['.', '.', '\\n', '-', '-', '\\n', '.', '.', '\\n', '-', '-', '\\n', '.', '.', '\\n', '-', '-', '\\n', '-']\n"
     ]
    }
   ],
   "source": [
    "phone_numbers = \"\"\"987.654.311\n",
    "234-567-8901\n",
    "654.111.987\n",
    "345-678-9012\n",
    "311.654.978\n",
    "456-789-1111\n",
    "111111-2345\"\"\"\n",
    "print(phone_numbers)\n",
    "\n",
    "# Select no digits\n",
    "list3 = re.findall(\"\\D\",phone_numbers)\n",
    "\n",
    "# print list\n",
    "print(list3)"
   ]
  },
  {
   "cell_type": "code",
   "execution_count": 64,
   "id": "ec934a4a",
   "metadata": {},
   "outputs": [
    {
     "name": "stdout",
     "output_type": "stream",
     "text": [
      "States are represented in the House of Representatives in approximate proportion to their populations, There are currently 435 voting-representatives.\n",
      "[' ', ' ', ' ', ' ', ' ', ' ', ' ', ' ', ' ', ' ', ' ', ' ', ' ', ',', ' ', ' ', ' ', ' ', ' ', '-', '.']\n"
     ]
    }
   ],
   "source": [
    "sentence2 = \"States are represented in the House of Representatives in approximate proportion to their populations, There are currently 435 voting-representatives.\"\n",
    "print(sentence2)\n",
    "\n",
    "# Select no words\n",
    "list4 = re.findall(\"\\W\",sentence2)\n",
    "\n",
    "# print list\n",
    "print(list4)"
   ]
  },
  {
   "cell_type": "code",
   "execution_count": 65,
   "id": "66cb2535",
   "metadata": {},
   "outputs": [
    {
     "name": "stdout",
     "output_type": "stream",
     "text": [
      "1000 We need to understand that if we all work on inclusion together, it's going to be faster, broader, better, and more thorough than anything we can do on our own\n",
      "['1000', 'need', 'understand', 'that', 'work', 'inclusion', 'together', 'going', 'faster', 'broader', 'better', 'more', 'thorough', 'than', 'anything']\n"
     ]
    }
   ],
   "source": [
    "# \\w = any word \n",
    "# {4,} = 3 or more characters <br/>\n",
    "\n",
    "sentence1 = \"1000 We need to understand that if we all work on inclusion together, it's going to be faster, broader, better, and more thorough than anything we can do on our own\"\n",
    "print(sentence1)\n",
    "\n",
    "# Translation: \\w{3,} match [any word] with [4 or more characters] and put each word matched in a list \n",
    "SentenceList = re.findall(\"\\w{4,}\",sentence1)\n",
    "print(SentenceList)"
   ]
  },
  {
   "cell_type": "code",
   "execution_count": 66,
   "id": "c7061126",
   "metadata": {},
   "outputs": [
    {
     "name": "stdout",
     "output_type": "stream",
     "text": [
      "1000 We need to understand that if we all work on inclusion together, it's going to be faster, broader, better, and more thorough than anything we can do on our own\n"
     ]
    },
    {
     "data": {
      "text/plain": [
       "[' We ', ' to ', ' if ', ' on ', ' to ', ' we ', ' do ']"
      ]
     },
     "execution_count": 66,
     "metadata": {},
     "output_type": "execute_result"
    }
   ],
   "source": [
    "# match [any word] with [2 characters] followed by a blank space\n",
    "print(sentence1)\n",
    "re.findall(\"\\s\\w{2}\\s\",sentence1)"
   ]
  },
  {
   "cell_type": "code",
   "execution_count": 67,
   "id": "0ee2c616",
   "metadata": {},
   "outputs": [
    {
     "name": "stdout",
     "output_type": "stream",
     "text": [
      "1000 We need to understand that if we all work on inclusion together, it's going to be faster, broader, better, and more thorough than anything we can do on our own\n",
      "['our']\n"
     ]
    }
   ],
   "source": [
    "# match [any word] with [4 or more characters] and put each word matched in a list\n",
    "print(sentence1)\n",
    "SentenceList1 = re.findall(\"o.r\",sentence1)\n",
    "\n",
    "print(SentenceList1)"
   ]
  },
  {
   "cell_type": "code",
   "execution_count": 77,
   "id": "0eb1ddc6",
   "metadata": {},
   "outputs": [
    {
     "name": "stdout",
     "output_type": "stream",
     "text": [
      " 987.654.311\n",
      "                    234-567-8901\n",
      "                    654.111.987\n",
      "                    345-678-9012\n",
      "                    311.654.978\n",
      "                    456-789-1111\n",
      "                    111111-2345\n"
     ]
    },
    {
     "data": {
      "text/plain": [
       "['987.654.311', '654.111.987', '311.654.978']"
      ]
     },
     "execution_count": 77,
     "metadata": {},
     "output_type": "execute_result"
    }
   ],
   "source": [
    "phone_numbers = \"\"\" 987.654.311\n",
    "                    234-567-8901\n",
    "                    654.111.987\n",
    "                    345-678-9012\n",
    "                    311.654.978\n",
    "                    456-789-1111\n",
    "                    111111-2345\"\"\"\n",
    "print(phone_numbers)\n",
    "\n",
    "# 'd' = any digit\n",
    "# '{3}' = exactly three\n",
    "# '\\-' = select hyphen\n",
    "# '\\d' = any digit\n",
    "# '{3}' = exactly three\n",
    "# '\\-' = select hyphen\n",
    "# '\\d' = any digit\n",
    "# '{4}' = exactly four\n",
    "\n",
    "#Translation: `\\d{3}\\-\\d{3}\\-\\d{4}` match [any digit] with [exactly three characters] followed by [hyphen] match [any digit] with [exactly three characters] followed by [hyphen] match [any digit] with [exactly four characters]\n",
    "re.findall(\"\\d{3}\\.\\d{3}\\.\\d{3}\",phone_numbers)"
   ]
  }
 ],
 "metadata": {
  "kernelspec": {
   "display_name": "Python 3.8.8 ('base')",
   "language": "python",
   "name": "python3"
  },
  "language_info": {
   "codemirror_mode": {
    "name": "ipython",
    "version": 3
   },
   "file_extension": ".py",
   "mimetype": "text/x-python",
   "name": "python",
   "nbconvert_exporter": "python",
   "pygments_lexer": "ipython3",
   "version": "3.8.8"
  },
  "vscode": {
   "interpreter": {
    "hash": "99dbe7d137ab5e4dabafce500ed6bbf0d5f642a9ac691b75854551f3d54cce9c"
   }
  }
 },
 "nbformat": 4,
 "nbformat_minor": 5
}
