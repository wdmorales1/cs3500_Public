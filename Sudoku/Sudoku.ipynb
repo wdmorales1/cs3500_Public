{
 "cells": [
  {
   "cell_type": "markdown",
   "id": "27c16426",
   "metadata": {},
   "source": [
    "# What is Sudoku?\n",
    "Sudoku is a puzzle in which players insert the numbers one to nine into a grid consisting of nine squares subdivided into a further nine smaller squares in such a way that every number appears once in each horizontal line, vertical line, and square."
   ]
  },
  {
   "cell_type": "code",
   "execution_count": null,
   "id": "7d3aaefc",
   "metadata": {},
   "outputs": [],
   "source": [
    "import sys\n",
    "import numpy as np"
   ]
  },
  {
   "cell_type": "code",
   "execution_count": 18,
   "id": "b4e1f705",
   "metadata": {},
   "outputs": [
    {
     "name": "stdout",
     "output_type": "stream",
     "text": [
      "['7 0 2 0 1 0 0 4 9\\n', '1 0 0 2 0 0 0 0 0\\n', '0 0 6 0 0 9 0 1 2\\n', '0 0 3 8 0 0 4 0 0\\n', '9 7 1 0 0 0 3 8 5\\n', '0 0 4 0 0 3 2 0 0\\n', '4 3 0 9 0 0 1 0 0\\n', '0 0 0 0 0 8 0 0 7\\n', '8 2 0 0 3 0 9 0 4']\n"
     ]
    }
   ],
   "source": [
    "# This code reads the input file given and builds a grid to be processed with it\n",
    "f = open(\"../input.txt\", \"r\")\n",
    "lines = f.readlines()\n",
    "\n",
    "#printing input files\n",
    "print(lines)"
   ]
  },
  {
   "cell_type": "code",
   "execution_count": 19,
   "id": "2e3f264d",
   "metadata": {},
   "outputs": [
    {
     "name": "stdout",
     "output_type": "stream",
     "text": [
      "[[7, 0, 2, 0, 1, 0, 0, 4, 9], [1, 0, 0, 2, 0, 0, 0, 0, 0], [0, 0, 6, 0, 0, 9, 0, 1, 2], [0, 0, 3, 8, 0, 0, 4, 0, 0], [9, 7, 1, 0, 0, 0, 3, 8, 5], [0, 0, 4, 0, 0, 3, 2, 0, 0], [4, 3, 0, 9, 0, 0, 1, 0, 0], [0, 0, 0, 0, 0, 8, 0, 0, 7], [8, 2, 0, 0, 3, 0, 9, 0, 4]]\n"
     ]
    }
   ],
   "source": [
    "# Creating a grid to hold content of text file\n",
    "grid = []\n",
    "for line in lines:\n",
    "    intline = []\n",
    "    sline = line.strip()\n",
    "    cline = sline.replace(\" \", \"\")\n",
    "    for character in cline:\n",
    "        intline.append(int(character))\n",
    "    grid.append(intline)\n",
    "\n",
    "#printing grid\n",
    "print(grid)"
   ]
  },
  {
   "cell_type": "code",
   "execution_count": 20,
   "id": "139cc4b4",
   "metadata": {},
   "outputs": [],
   "source": [
    "# function possible determines whether a given number can possibly go in a space\n",
    "def possible(y,x,n):\n",
    "  global grid\n",
    "  # n is the number we want to fill in\n",
    "\n",
    "  # 1st \n",
    "  # check if n already existed in vertical (y) axis\n",
    "  # if exists, return False (not possible)\n",
    "  for i in range(9):\n",
    "    if grid[y][i] == n:\n",
    "      return False\n",
    "\n",
    "  # 2nd\n",
    "  # check horizontal (x) axis\n",
    "  for i in range(9):\n",
    "    if grid[i][x] == n:\n",
    "      return False\n",
    "\n",
    "  # 3rd\n",
    "  # check the 3x3 local grid\n",
    "  x0 = (x//3)*3 \n",
    "  y0 = (y//3)*3\n",
    "  for i in range(3):\n",
    "    for j in range(3):\n",
    "      if grid[y0+i][x0+j] == n:\n",
    "         return False\n",
    "\n",
    "  # return true if pass all 3 checks.\n",
    "  return True"
   ]
  },
  {
   "cell_type": "code",
   "execution_count": 21,
   "id": "bbe9884e",
   "metadata": {},
   "outputs": [],
   "source": [
    "# solve uses grid to iterate through every space and, if empty, try all possibilities for said space\n",
    "def solve():\n",
    "  global grid\n",
    "  for y in range(9):\n",
    "    for x in range(9):\n",
    "      # Find blank positions in the grid (value = 0)\n",
    "      if grid[y][x] == 0:\n",
    "        # Loop n from 1-9\n",
    "        for n in range(1,10):\n",
    "          if possible(y,x,n):\n",
    "            grid[y][x] = n\n",
    "            solve()\n",
    "\n",
    "            # This is where backtracking happens\n",
    "            # Reset the latest position back to 0 and try with new n value\n",
    "            grid[y][x] = 0\n",
    "        return\n",
    "  print(np.matrix(grid))"
   ]
  },
  {
   "cell_type": "code",
   "execution_count": 22,
   "id": "ae4b1849",
   "metadata": {},
   "outputs": [
    {
     "name": "stdout",
     "output_type": "stream",
     "text": [
      "The sovled sudoku puzzle is:\n",
      "****************************\n",
      "[[7 5 2 3 1 6 8 4 9]\n",
      " [1 9 8 2 7 4 6 5 3]\n",
      " [3 4 6 5 8 9 7 1 2]\n",
      " [2 6 3 8 5 7 4 9 1]\n",
      " [9 7 1 6 4 2 3 8 5]\n",
      " [5 8 4 1 9 3 2 7 6]\n",
      " [4 3 7 9 6 5 1 2 8]\n",
      " [6 1 9 4 2 8 5 3 7]\n",
      " [8 2 5 7 3 1 9 6 4]]\n"
     ]
    }
   ],
   "source": [
    "print(\"The sovled sudoku puzzle is:\")\n",
    "print(\"****************************\")\n",
    "solve()"
   ]
  }
 ],
 "metadata": {
  "kernelspec": {
   "display_name": "Python 3 (ipykernel)",
   "language": "python",
   "name": "python3"
  },
  "language_info": {
   "codemirror_mode": {
    "name": "ipython",
    "version": 3
   },
   "file_extension": ".py",
   "mimetype": "text/x-python",
   "name": "python",
   "nbconvert_exporter": "python",
   "pygments_lexer": "ipython3",
   "version": "3.8.8"
  },
  "vscode": {
   "interpreter": {
    "hash": "99dbe7d137ab5e4dabafce500ed6bbf0d5f642a9ac691b75854551f3d54cce9c"
   }
  }
 },
 "nbformat": 4,
 "nbformat_minor": 5
}
